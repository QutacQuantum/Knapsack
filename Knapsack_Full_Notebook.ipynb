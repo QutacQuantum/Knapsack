{
 "cells": [
  {
   "cell_type": "markdown",
   "id": "423f9147",
   "metadata": {},
   "source": [
    "\n",
    "*This notebook provides the evaluation code used for benchmarking QAOA, Warm-start QAOA, a variant of warm-start QAOA, VQE, Quantum Annealing along with some classical methods such as Integer Programming, Simulated Annealing etc.. The code provided was used to generate the results presented in the paper https://arxiv.org/abs/2301.05750 .*\n",
    "\n"
   ]
  },
  {
   "cell_type": "code",
   "execution_count": null,
   "id": "1f4ebe88",
   "metadata": {},
   "outputs": [],
   "source": [
    "# -*- coding: utf-8 -*-\n",
    "\"\"\"\n",
    "@author: QUTAC Quantum\n",
    "\n",
    "SPDX-FileCopyrightText: 2023 QUTAC\n",
    "\n",
    "SPDX-License-Identifier: Apache-2.0\n",
    "\n",
    "\"\"\""
   ]
  },
  {
   "attachments": {},
   "cell_type": "markdown",
   "metadata": {},
   "source": [
    "# Multi-Knapsack Problem\n",
    "\n",
    "We first present the mathematical model for the multi-knapsack optimization problem. Given $N$ items and $M$ knapsacks, the aim of the problem is to assign as many items to one of the knapsacks whicle not exceeding the capacity of any knapsack. Additionally, each item in some knapsack contributes to a addedd value.\n",
    "\n",
    "Formally, we can state the problem in the following manner. Let, $ v_j$ be the value of item $j$, $j \\in \\{0,1,\\dots, N-1\\}$, $w_j$ be the weight of time $j$, and $c_i$ be the capacity of knapsack $i$, $i\\in \\{0,1,\\dots, M-1\\}$. We can define a decision variable $x_{i,j}$, such that\n",
    "$$\n",
    "\\begin{equation*}\n",
    "    x_{i,j}=\n",
    "    \\begin{cases}\n",
    "      1, & \\text{if item $j$ is assigned to knapsack $i$}\\;, \\\\\n",
    "      0, & \\text{otherwise}\\;.\n",
    "    \\end{cases}\n",
    "  \\end{equation*}\n",
    "$$\n",
    "\n",
    "\n",
    "The multi-knapsack problem can be formulated as,\n",
    "\n",
    "$$\n",
    "\\begin{equation*}\n",
    "\\begin{split}\n",
    "\\max &\\sum_{i=0}^{M-1} \\sum_{j=0}^{N-1} v_{i,j} \\cdot x_{i,j} \\\\\n",
    "\\text{such that } & \\sum_{j=0}^{N-1} w_j \\cdot x_{i,j} \\leq c_i, \\hspace{1em} \\forall i \\in \\{0,1,\\dots, M-1\\}\\\\\n",
    "& \\sum_{i=0}^{M-1} x_{i,j} \\leq 1, \\hspace{2em} \\forall j \\in \\{0,1,\\dots, N-1\\} \\\\\n",
    "\\end{split}\n",
    "\\end{equation*}\n",
    "$$\n",
    "\n",
    "## QUBO Formulation\n",
    "\n",
    "### 1) Any item $i$ can be assigned to a maximum one knapsack. It is possible that an item is not assigned to any knapsack\n",
    "$$\n",
    "H_{\\text{single}}= \\sum_{j=0}^{N-1} \\left(\\sum_{i=0}^{M-1} x_{i,j}\\right)\\cdot \\left(\\sum_{i=0}^{M-1} x_{i,j}-1 \\right) \\;.\n",
    "$$\n",
    "\n",
    "### 2) Ensure that the capacity of any knapsack is not exceeded. This is achieved by incorporated by introducing slack bits\n",
    "$$\n",
    "\\text{H}_{\\text{capacity}}=\\sum_{i=0}^{M-1} \\left[\\left(\\sum_{j=0}^{N-1} w_j\\cdot x_{i,j}\\right) + \\left(\\sum_{b=0}^{\\lfloor\\log{c_i}\\rfloor} 2^{b}\\cdot y_{i,b}\\right) - c_i \\right]^2 \\;.\n",
    "$$\n",
    "\n",
    "### 3) Maximize the total value of assigned items in knapsacks\n",
    "\n",
    "$$\n",
    "H_{\\text{obj}}= - \\sum_{i=0}^{M-1} \\sum_{j=0}^{N-1} v_{i,j} \\cdot x_{i,j} \\;.\n",
    "$$\n",
    "\n",
    "Finally, the complete QUBO is written as,\n",
    "\n",
    "$$\n",
    "H = \\alpha\\cdot H_{\\text{single}} + \\beta\\cdot \\text{H}_{\\text{capacity}} + \\gamma \\cdot H_{\\text{obj}} \\;, \\\\\n",
    "$$\n",
    "\n",
    "where $\\alpha,\\beta $ are the penalty coefficients, and $\\gamma$ is the objective weight. Note, $\\alpha>0, \\beta>0, \\gamma >0$.\n"
   ]
  },
  {
   "cell_type": "code",
   "execution_count": null,
   "id": "d072b236",
   "metadata": {},
   "outputs": [],
   "source": [
    "%load_ext autoreload\n",
    "%autoreload 2"
   ]
  },
  {
   "cell_type": "markdown",
   "id": "0bf39849",
   "metadata": {},
   "source": [
    "# Load Problem Data\n",
    "\n",
    "We first load the data for problem instances saved ine a json file `data/knapsack/qaoa_data.json`. We benchmark the studied algorithms on four different problem instances with increasing problem sizes. "
   ]
  },
  {
   "cell_type": "code",
   "execution_count": null,
   "id": "8b94d9e5",
   "metadata": {},
   "outputs": [],
   "source": [
    "import sys\n",
    "import json\n",
    "import importlib\n",
    "import numpy as np\n",
    "import gurobipy as gp\n",
    "import warnings\n",
    "warnings.filterwarnings('ignore')\n",
    "\n",
    "file      = 'data/knapsack/qaoa_data.json'\n",
    "scenario  = 'scenario_2'\n",
    "\n",
    "with open(file, 'r') as f:\n",
    "    dataset = json.load(f)\n",
    "\n",
    "article_reward = np.array(dataset[scenario]['article_reward'])\n",
    "article_weight = np.array(dataset[scenario]['article_weight'])\n",
    "knapsack_capacity = np.array(dataset[scenario]['knapsack_capacity'])\n",
    "optimal = np.array(dataset[scenario]['optimal_solution'])\n",
    "(number_of_knapsacks, number_of_articles) = article_reward.shape"
   ]
  },
  {
   "attachments": {},
   "cell_type": "markdown",
   "id": "b5abb51e",
   "metadata": {},
   "source": [
    "## Classical Integer programming\n",
    "\n",
    "As a first solver we present the evaluation code for Integer Programming, which models the multi-knapsack problem as a linear integer program and solves the model using `PuLp` solver. The code can also be run using the `Gurobi` solver."
   ]
  },
  {
   "cell_type": "code",
   "execution_count": null,
   "id": "6daeb635",
   "metadata": {},
   "outputs": [],
   "source": [
    "import importlib\n",
    "import QAOA.sources.KnapsackIP\n",
    "importlib.reload(QAOA.sources.KnapsackIP)\n",
    "from QAOA.sources.KnapsackIP import IPSolver\n",
    "\n",
    "formulation = 'Binary'\n",
    "solver      = None # None Gurobi\n",
    "\n",
    "ip_solver=IPSolver(article_reward, article_weight, knapsack_capacity, formulation)\n",
    "ip_solver.create_model()\n",
    "status, solution, sol_y, consumed, objective_value = ip_solver.solve(solver)\n",
    "objective_value, consumed, knapsack_capacity, article_weight"
   ]
  },
  {
   "attachments": {},
   "cell_type": "markdown",
   "id": "1cd6ff90",
   "metadata": {},
   "source": [
    "## Standard QAOA\n",
    "\n",
    "The code cell below provides the solver for the Quantum Approximate Optimization Algorithm (https://arxiv.org/abs/1411.4028). For the classical optimization, we utilize `SLSQP` solver. More details of the implementation can be found in the `QAOASolver` class provided in the source code."
   ]
  },
  {
   "cell_type": "code",
   "execution_count": null,
   "id": "6e78f0ab",
   "metadata": {},
   "outputs": [],
   "source": [
    "import importlib\n",
    "import QAOA.sources.KnapsackQAOA_Qiskit\n",
    "importlib.reload(QAOA.sources.KnapsackQAOA_Qiskit)\n",
    "from QAOA.sources.KnapsackQAOA_Qiskit import QAOASolver\n",
    "\n",
    "\n",
    "total_iterations  = 1000\n",
    "n_shots           = 10000\n",
    "num_layers        = 3\n",
    "formulation       = 'Binary'\n",
    "\n",
    "init_params=(np.pi/2*np.random.rand(1,2)).tolist()[0]\n",
    "single_penalty = int(2*np.max(article_reward))\n",
    "capacity_penalty = int(2*np.max(article_reward))\n",
    "objective_weight  = 1\n",
    "\n",
    "qaoa = QAOASolver(article_reward, article_weight, knapsack_capacity, formulation,\n",
    "                  single_penalty, capacity_penalty, objective_weight,num_layers)\n",
    "                \n",
    "\n",
    "all_solutions, samples, runtime, classical_iterations= qaoa.solve_qaoa_knapsack(init_params, total_iterations, num_layers, n_shots)"
   ]
  },
  {
   "attachments": {},
   "cell_type": "markdown",
   "id": "21d3975c",
   "metadata": {},
   "source": [
    "## Warm-start QAOA\n",
    "\n",
    "The next code cell provides the evaluation code for Warm-start QAOA (https://arxiv.org/abs/2009.10095). "
   ]
  },
  {
   "cell_type": "code",
   "execution_count": null,
   "id": "89501e2d",
   "metadata": {},
   "outputs": [],
   "source": [
    "import importlib\n",
    "import numpy as np\n",
    "\n",
    "import QAOA.sources.KnapsackWSQAOA_Qiskit\n",
    "importlib.reload(QAOA.sources.KnapsackWSQAOA_Qiskit)\n",
    "from QAOA.sources.KnapsackWSQAOA_Qiskit import WSQAOASolver\n",
    "\n",
    "import warnings\n",
    "warnings.filterwarnings('ignore')\n",
    "\n",
    "\n",
    "total_iterations  = 1000\n",
    "n_shots           = 10000\n",
    "num_layers        = 3\n",
    "formulation       = 'Binary'\n",
    "\n",
    "\n",
    "init_params       = (np.pi/2*np.random.rand(1,2)).tolist()[0]\n",
    "single_penalty    = int(2*np.max(article_reward))\n",
    "capacity_penalty  = int(2*np.max(article_reward))\n",
    "epsilon           = 0.25\n",
    "mixer_hamiltonian = 'WS-Mixer'\n",
    "\n",
    "\n",
    "\n",
    "init_params=(np.pi/2*np.random.rand(1,2)).tolist()[0]\n",
    "\n",
    "formulation = 'Binary'\n",
    "qaoa = WSQAOASolver(article_reward, article_weight, knapsack_capacity, formulation,\n",
    "                  single_penalty, capacity_penalty, objective_weight,num_layers,\n",
    "                  epsilon)\n",
    "                \n",
    "print('WS-QAOA in progress...')\n",
    "print('Number of qubits', len(qaoa.variables))\n",
    "all_solutions, samples, runtime, classical_iterations = qaoa.solve_qaoa_knapsack(mixer_hamiltonian, init_params, total_iterations, num_layers, n_shots)\n",
    "\n"
   ]
  },
  {
   "attachments": {},
   "cell_type": "markdown",
   "id": "cc62889b",
   "metadata": {},
   "source": [
    "## Warm-start QAOA with Pauli-X Hamiltonian\n",
    "\n",
    "We also benchmark a variant of warm-start QAOA (WS-QAOA), where in, a Pauli-X mixer Hamiltonian is used instead of the proposed mixer Hamiltonian in https://arxiv.org/abs/2009.10095. The idea of this variation was to check the effect of the mixer Hamiltonian on the fianl solution, on top of warm-started initial state of the quantum circuit."
   ]
  },
  {
   "cell_type": "code",
   "execution_count": null,
   "id": "c948a0af",
   "metadata": {},
   "outputs": [],
   "source": [
    "import importlib\n",
    "import numpy as np\n",
    "\n",
    "import QAOA.sources.KnapsackWSQAOA_Qiskit\n",
    "importlib.reload(QAOA.sources.KnapsackWSQAOA_Qiskit)\n",
    "from QAOA.sources.KnapsackWSQAOA_Qiskit import WSQAOASolver\n",
    "\n",
    "import warnings\n",
    "warnings.filterwarnings('ignore')\n",
    "\n",
    "\n",
    "total_iterations  = 1000\n",
    "n_shots           = 10000\n",
    "num_layers        = 3\n",
    "formulation       = 'Binary'\n",
    "\n",
    "init_params       = (np.pi/2*np.random.rand(1,2)).tolist()[0]\n",
    "single_penalty    = int(2*np.max(article_reward))\n",
    "capacity_penalty  = int(2*np.max(article_reward))\n",
    "epsilon           = 0.25\n",
    "mixer_hamiltonian = 'Pauli-X'\n",
    "\n",
    "init_params=(np.pi/2*np.random.rand(1,2)).tolist()[0]\n",
    "\n",
    "formulation = 'Binary'\n",
    "\n",
    "qaoa = WSQAOASolver(article_reward, article_weight, knapsack_capacity, formulation,\n",
    "                  single_penalty, capacity_penalty, objective_weight,num_layers,\n",
    "                  epsilon)\n",
    "print('WS-QAOA in progress...')                \n",
    "print('Number of qubits', len(qaoa.variables))\n",
    "all_solutions, samples, runtime, classical_iterations = qaoa.solve_qaoa_knapsack(mixer_hamiltonian, init_params, total_iterations, num_layers, n_shots)\n",
    "\n"
   ]
  },
  {
   "attachments": {},
   "cell_type": "markdown",
   "id": "f8361a7c",
   "metadata": {},
   "source": [
    "# Variational Quantum Eigensolver (VQE)\n",
    "\n",
    "Another circuit model algorithm which we benchmark the Variational Quantum Eigensolver. The circuit ansatz used in our implementation has been adopted from https://arxiv.org/pdf/2102.05566.pdf. "
   ]
  },
  {
   "cell_type": "code",
   "execution_count": null,
   "id": "91113d4a",
   "metadata": {},
   "outputs": [],
   "source": [
    "import importlib\n",
    "\n",
    "import VQE.VQE\n",
    "importlib.reload(VQE.VQE)\n",
    "from VQE.VQE import solve_VQE, VQE_circuit\n",
    "\n",
    "from Data.QUBO_builder import build_QUBO\n",
    "\n",
    "from qiskit import Aer, circuit\n",
    "backend = Aer.get_backend(\"aer_simulator\")\n",
    "\n",
    "# build QUBO matrix for scnenario number 1\n",
    "Q,offset = build_QUBO(scenario_no=1)\n",
    "\n",
    "# solve QUBO problem with VQE\n",
    "results = solve_VQE(backend=backend, Q=Q, offset=offset, num_layers=1)"
   ]
  },
  {
   "cell_type": "code",
   "execution_count": null,
   "id": "f412b8ec",
   "metadata": {},
   "outputs": [],
   "source": [
    "circuit = VQE_circuit(num_qubits=4, num_layers=2)\n",
    "circuit.draw()"
   ]
  },
  {
   "attachments": {},
   "cell_type": "markdown",
   "id": "f38cd517",
   "metadata": {},
   "source": [
    "# Annealing\n",
    "\n",
    "For the annealing part of the paper we used the open-source benchmarking framework QUARK. We refer the reader to the [source code](https://github.com/QUARK-framework/QUARK) and the official [documentation](https://quark-framework.readthedocs.io/en/latest/).\n",
    "\n",
    "The following example is an MVP of how the knapsack problem is solved with a the simulated annealing approach described in the paper. Because the DWave devices were removed from AWS Braket in November 2022, some minor adjustments were made to some of the files (now labelled \"..._without_DWave\") but the original files have not been removed, so results can still be reproduced if the user have access to DWave devices."
   ]
  },
  {
   "cell_type": "code",
   "execution_count": null,
   "id": "7b129efa",
   "metadata": {},
   "outputs": [],
   "source": [
    "import os, sys\n",
    "sys.path.append(os.path.join(os.path.dirname(\"Annealing/QUARK/src/\")))\n",
    "sys.path.append(os.path.join(os.path.dirname(\"Annealing/QUARK/paper_config/\")))\n",
    "import yaml\n",
    "import Annealing.QUARK.src.config as config\n",
    "import Annealing.QUARK.src.main as main\n",
    "import Annealing.QUARK.src.BenchmarkManager as BenchmarkManager\n",
    "import Annealing.QUARK.src.applications.Application\n",
    "import Annealing.QUARK.src.applications.Mapping\n",
    "import Annealing.QUARK.src.applications.Knapsack\n",
    "import Annealing.QUARK.src.applications.Knapsack.mappings.MultiKSQUBO\n",
    "import Annealing.QUARK.src.devices.Device\n",
    "import Annealing.QUARK.src.devices.SimulatedAnnealingSampler\n",
    "import Annealing.QUARK.src.solvers.Solver\n",
    "import Annealing.QUARK.src.solvers.Annealer_without_DWave\n",
    "\n",
    "benchmark_manager = BenchmarkManager.BenchmarkManager()\n",
    "\n",
    "f = open(\"Annealing/QUARK/paper_config/annealing_example.yml\")\n",
    "benchmark_config = yaml.load(f, Loader=yaml.FullLoader)\n",
    "benchmark_manager.orchestrate_benchmark(benchmark_config)\n",
    "df = benchmark_manager.load_results()\n",
    "benchmark_manager.vizualize_results(df)\n"
   ]
  },
  {
   "attachments": {},
   "cell_type": "markdown",
   "id": "586adcb6",
   "metadata": {},
   "source": [
    "Now you can have a look at the results in [benchmark_runs](./benchmark_runs/)."
   ]
  },
  {
   "cell_type": "markdown",
   "id": "778736b2",
   "metadata": {},
   "source": [
    "# Calculation of circuit runtimes\n",
    "\n",
    "In addition to the evaluation code we also provide an estimate of circuit runtimes on a real hardware, for standard QAOA and VQE."
   ]
  },
  {
   "cell_type": "code",
   "execution_count": null,
   "id": "825cd80d",
   "metadata": {},
   "outputs": [],
   "source": [
    "import json\n",
    "import Runtimes.circ_runtime_evaluation\n",
    "importlib.reload(Runtimes.circ_runtime_evaluation)\n",
    "from Runtimes.circ_runtime_evaluation import *\n",
    "\n",
    "scenarios = np.array([1,2,3,4])\n",
    "num_layers = 1\n",
    "objective_weight = 1\n",
    "formulation      = 'Binary'\n",
    "\n",
    "backend = FakeBrooklyn()\n",
    "\n",
    "#averages for transpilation\n",
    "comp_averages=20\n",
    "\n",
    "#optimization level for transpilation\n",
    "opt_level = 3 \n",
    "\n",
    "algorithm='vqe' # 'qaoa', 'vqe'\n",
    "\n",
    "file = 'data/knapsack/qaoa_data.json'\n",
    "with open(file, 'r') as f:\n",
    "    dataset = json.load(f)\n",
    "\n",
    "# create object and calculate runtimes\n",
    "calc_runtimes = circ_runtime_evaluation(dataset, scenarios, num_layers, objective_weight, formulation, comp_averages, opt_level, backend, algorithm)\n",
    "\n",
    "runtimes_mean = calc_runtimes.runtimes_mean\n",
    "print('Mean Circuit Runtimes for VQE')\n",
    "print(f'Scenario \\t runtime (millisecond) \\t standard-deviation')\n",
    "print('-----------------------------------------------------')\n",
    "for i in range(len(runtimes_mean)):\n",
    "    print(f'scenario_{i+1}\\t {runtimes_mean[i][0]} \\t {runtimes_mean[i][1]}')\n",
    "print('\\n\\n')    \n",
    "\n",
    "\n",
    "\n",
    "algorithm='qaoa' # 'qaoa', 'vqe'\n",
    "\n",
    "# create object and calculate runtimes\n",
    "calc_runtimes = circ_runtime_evaluation(dataset, scenarios, num_layers, objective_weight, formulation, comp_averages, opt_level, backend, algorithm)\n",
    "\n",
    "runtimes_mean = calc_runtimes.runtimes_mean\n",
    "print('Mean Circuit Runtimes for QAOA')\n",
    "print(f'Scenario \\t runtime (millisecond) \\t standard-deviation')\n",
    "print('-----------------------------------------------------')\n",
    "for i in range(len(runtimes_mean)):\n",
    "    print(f'scenario_{i+1}\\t {runtimes_mean[i][0]} \\t {runtimes_mean[i][1]}')    "
   ]
  },
  {
   "cell_type": "code",
   "execution_count": null,
   "id": "b8f4581a",
   "metadata": {},
   "outputs": [],
   "source": []
  }
 ],
 "metadata": {
  "kernelspec": {
   "display_name": "Python 3.9.17 ('qutac_test')",
   "language": "python",
   "name": "python3"
  },
  "language_info": {
   "codemirror_mode": {
    "name": "ipython",
    "version": 3
   },
   "file_extension": ".py",
   "mimetype": "text/x-python",
   "name": "python",
   "nbconvert_exporter": "python",
   "pygments_lexer": "ipython3",
   "version": "3.9.17"
  },
  "vscode": {
   "interpreter": {
    "hash": "7598127f1bb73f45aeb4a193466d375320ae4a27a3b1a13d4691c171fa6b6b01"
   }
  }
 },
 "nbformat": 4,
 "nbformat_minor": 5
}
